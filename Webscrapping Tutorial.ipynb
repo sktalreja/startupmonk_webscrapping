{
 "cells": [
  {
   "cell_type": "markdown",
   "metadata": {},
   "source": [
    "Sometime we can not afford to use the API and sometimes not available, so we may need to do web scrapping"
   ]
  },
  {
   "cell_type": "code",
   "execution_count": 1,
   "metadata": {},
   "outputs": [],
   "source": [
    "# Scraping data for over 2000 movies\n",
    "\n",
    "# Since we want to get over 2000 ratings from \n",
    "# both IMDB and Metacritic, we’ll have to make at least 4000 requests. \n",
    "# If we make one request per second, our script will need a little over \n",
    "# an hour to make 4000 requests. Because of this, it’s worth trying to identify more efficient \n",
    "# ways of obtaining our data.\n",
    "\n"
   ]
  },
  {
   "cell_type": "code",
   "execution_count": 2,
   "metadata": {},
   "outputs": [
    {
     "name": "stdout",
     "output_type": "stream",
     "text": [
      "\n",
      "\n",
      "\n",
      "<!DOCTYPE html>\n",
      "<html\n",
      "    xmlns:og=\"http://ogp.me/ns#\"\n",
      "    xmlns:fb=\"http://www.facebook.com/2008/fbml\">\n",
      "    <head>\n",
      "         \n",
      "        <meta charset=\"utf-8\">\n",
      "        <meta http-equiv=\"X-UA-Compatible\" content=\"IE=edge\">\n",
      "\n",
      "    <meta name=\"apple-itunes-app\" content=\"app-id=342792525, app-argument=imdb:///?src=mdot\">\n",
      "\n",
      "\n",
      "\n",
      "        <script type=\"text/javascript\">var IMDbTimer={starttime: new Date().getTime(),pt:'java'};</script>\n",
      "\n",
      "<script>\n",
      "    if (typeof uet == 'function') {\n",
      "      uet(\"bb\", \"LoadTitle\"\n"
     ]
    }
   ],
   "source": [
    "# Identifying the URL structure\n",
    "\n",
    "# Since we want to get over 2000 ratings from both IMDB and Metacritic, \n",
    "# we’ll have to make at least 4000 requests. If we make one request per second, \n",
    "# our script will need a little over an hour to make 4000 requests. \n",
    "# Because of this, it’s worth trying to identify more efficient ways of obtaining our data.\n",
    "\n",
    "from requests import get\n",
    "url = 'http://www.imdb.com/search/title?release_date=2017&sort=num_votes,desc&page=1'\n",
    "response = get(url)\n",
    "print(response.text[:500])"
   ]
  },
  {
   "cell_type": "code",
   "execution_count": 57,
   "metadata": {},
   "outputs": [
    {
     "data": {
      "text/plain": [
       "bs4.BeautifulSoup"
      ]
     },
     "execution_count": 57,
     "metadata": {},
     "output_type": "execute_result"
    }
   ],
   "source": [
    "# Using Beautiful Soup to parse the HTML content\n",
    "\n",
    "from bs4 import BeautifulSoup\n",
    "html_soup = BeautifulSoup(response.text, 'html.parser') \n",
    "type(html_soup)"
   ]
  },
  {
   "cell_type": "code",
   "execution_count": 56,
   "metadata": {},
   "outputs": [
    {
     "name": "stdout",
     "output_type": "stream",
     "text": [
      "<class 'bs4.element.ResultSet'>\n",
      "0\n"
     ]
    }
   ],
   "source": [
    "# We will be looping in each movie to get the information related to movies\n",
    "\n",
    "# Classs has two unique values i.e. lister-item and mode-advanced\n",
    "\n",
    "# Extracting all these div containers \n",
    "\n",
    "movie_containers = html_soup.find_all('li', class_ = 'lister-item mode-advanced')\n",
    "print(type(movie_containers))\n",
    "print(len(movie_containers))"
   ]
  },
  {
   "cell_type": "code",
   "execution_count": 59,
   "metadata": {},
   "outputs": [
    {
     "ename": "IndexError",
     "evalue": "list index out of range",
     "output_type": "error",
     "traceback": [
      "\u001b[1;31m---------------------------------------------------------------------------\u001b[0m",
      "\u001b[1;31mIndexError\u001b[0m                                Traceback (most recent call last)",
      "\u001b[1;32m<ipython-input-59-e5d233517c88>\u001b[0m in \u001b[0;36m<module>\u001b[1;34m()\u001b[0m\n\u001b[0;32m      1\u001b[0m \u001b[1;31m# First we will extract only first container to extract the relevant information\u001b[0m\u001b[1;33m\u001b[0m\u001b[1;33m\u001b[0m\u001b[0m\n\u001b[1;32m----> 2\u001b[1;33m \u001b[0mfirst_movies\u001b[0m \u001b[1;33m=\u001b[0m \u001b[0mmovie_containers\u001b[0m\u001b[1;33m[\u001b[0m\u001b[1;36m0\u001b[0m\u001b[1;33m]\u001b[0m\u001b[1;33m\u001b[0m\u001b[0m\n\u001b[0m\u001b[0;32m      3\u001b[0m \u001b[0mfirst_movies\u001b[0m\u001b[1;33m\u001b[0m\u001b[0m\n",
      "\u001b[1;31mIndexError\u001b[0m: list index out of range"
     ]
    }
   ],
   "source": [
    "# First we will extract only first container to extract the relevant information\n",
    "first_movies = movie_containers[0]\n",
    "first_movies"
   ]
  },
  {
   "cell_type": "code",
   "execution_count": 10,
   "metadata": {},
   "outputs": [
    {
     "data": {
      "text/plain": [
       "<div class=\"lister-top-right\">\n",
       "<div class=\"ribbonize\" data-caller=\"filmosearch\" data-tconst=\"tt3315342\"></div>\n",
       "</div>"
      ]
     },
     "execution_count": 10,
     "metadata": {},
     "output_type": "execute_result"
    }
   ],
   "source": [
    "# The name of the movie \n",
    "first_movies.div # 1st div and name is in 3rd one"
   ]
  },
  {
   "cell_type": "code",
   "execution_count": 11,
   "metadata": {},
   "outputs": [
    {
     "data": {
      "text/plain": [
       "<a href=\"/title/tt3315342/\"> <img alt=\"Logan\" class=\"loadlate\" data-tconst=\"tt3315342\" height=\"98\" loadlate=\"https://m.media-amazon.com/images/M/MV5BYzc5MTU4N2EtYTkyMi00NjdhLTg3NWEtMTY4OTEyMzJhZTAzXkEyXkFqcGdeQXVyNjc1NTYyMjg@._V1_UX67_CR0,0,67,98_AL_.jpg\" src=\"https://m.media-amazon.com/images/G/01/imdb/images/nopicture/large/film-184890147._CB470041630_.png\" width=\"67\"/>\n",
       "</a>"
      ]
     },
     "execution_count": 11,
     "metadata": {},
     "output_type": "execute_result"
    }
   ],
   "source": [
    "# Acessing the first anchor tag\n",
    "first_movies.a"
   ]
  },
  {
   "cell_type": "code",
   "execution_count": 14,
   "metadata": {},
   "outputs": [
    {
     "data": {
      "text/plain": [
       "<h3 class=\"lister-item-header\">\n",
       "<span class=\"lister-item-index unbold text-primary\">1.</span>\n",
       "<a href=\"/title/tt3315342/\">Logan</a>\n",
       "<span class=\"lister-item-year text-muted unbold\">(2017)</span>\n",
       "</h3>"
      ]
     },
     "execution_count": 14,
     "metadata": {},
     "output_type": "execute_result"
    }
   ],
   "source": [
    "first_movies.h3 #it brings us very close"
   ]
  },
  {
   "cell_type": "code",
   "execution_count": 15,
   "metadata": {},
   "outputs": [
    {
     "data": {
      "text/plain": [
       "<a href=\"/title/tt3315342/\">Logan</a>"
      ]
     },
     "execution_count": 15,
     "metadata": {},
     "output_type": "execute_result"
    }
   ],
   "source": [
    "first_movies.h3.a "
   ]
  },
  {
   "cell_type": "code",
   "execution_count": 17,
   "metadata": {},
   "outputs": [
    {
     "data": {
      "text/plain": [
       "'Logan'"
      ]
     },
     "execution_count": 17,
     "metadata": {},
     "output_type": "execute_result"
    }
   ],
   "source": [
    "first_movies.h3.a.text"
   ]
  },
  {
   "cell_type": "code",
   "execution_count": 19,
   "metadata": {},
   "outputs": [
    {
     "data": {
      "text/plain": [
       "<span class=\"lister-item-year text-muted unbold\">(2017)</span>"
      ]
     },
     "execution_count": 19,
     "metadata": {},
     "output_type": "execute_result"
    }
   ],
   "source": [
    "# The year of the movie's release\n",
    "\n",
    "# e distinguishing mark consists of the values lister-item-year text-muted unbold assigned to \n",
    "# the class attribute. So we look for the first <span> with these values within the <h3> tag:\n",
    "\n",
    "first_year = first_movies.h3.find('span', class_ = 'lister-item-year text-muted unbold')\n",
    "first_year"
   ]
  },
  {
   "cell_type": "code",
   "execution_count": 20,
   "metadata": {},
   "outputs": [
    {
     "data": {
      "text/plain": [
       "'(2017)'"
      ]
     },
     "execution_count": 20,
     "metadata": {},
     "output_type": "execute_result"
    }
   ],
   "source": [
    "first_year.text"
   ]
  },
  {
   "cell_type": "code",
   "execution_count": 24,
   "metadata": {},
   "outputs": [
    {
     "data": {
      "text/plain": [
       "8.1"
      ]
     },
     "execution_count": 24,
     "metadata": {},
     "output_type": "execute_result"
    }
   ],
   "source": [
    "# rating\n",
    "first_imdb = float(first_movies.strong.text)\n",
    "first_imdb"
   ]
  },
  {
   "cell_type": "code",
   "execution_count": 26,
   "metadata": {},
   "outputs": [
    {
     "name": "stdout",
     "output_type": "stream",
     "text": [
      "77\n"
     ]
    }
   ],
   "source": [
    "# The meta score - using class to uniquely filter\n",
    "\n",
    "first_mscore = first_movies.find('span', class_ = 'metascore favorable')\n",
    "first_mscore = int(first_mscore.text)\n",
    "print(first_mscore)"
   ]
  },
  {
   "cell_type": "code",
   "execution_count": 28,
   "metadata": {},
   "outputs": [
    {
     "data": {
      "text/plain": [
       "'567152'"
      ]
     },
     "execution_count": 28,
     "metadata": {},
     "output_type": "execute_result"
    }
   ],
   "source": [
    "# The number of votes - it contains within a <span> tag. Its distinctive mark is a name \n",
    "# attribute with the value nv.\n",
    "\n",
    "first_votes = first_movies.find('span', attrs = {'name':'nv'})\n",
    "first_votes\n",
    "\n",
    "# You can treat a Tag object just like a dictionary. \n",
    "# The HTML attributes are the dictionary’s keys. \n",
    "# The values of the HTML attributes are the values of the dictionary’s keys.\n",
    "\n",
    "first_votes['data-value']"
   ]
  },
  {
   "cell_type": "code",
   "execution_count": 29,
   "metadata": {},
   "outputs": [],
   "source": [
    "first_votes = int(first_votes['data-value'])"
   ]
  },
  {
   "cell_type": "markdown",
   "metadata": {},
   "source": [
    "## The script for a single page\n",
    "\n",
    "We have to make sure that we will extract the data only from the containers that have a Metascore\n",
    "\n",
    "We need to add a condition to skip movies without a Metascore\n",
    "\n",
    "We can find the unique unique class, if it return none then we can say that no metascore in that container\n",
    "\n"
   ]
  },
  {
   "cell_type": "code",
   "execution_count": 31,
   "metadata": {},
   "outputs": [
    {
     "data": {
      "text/plain": [
       "NoneType"
      ]
     },
     "execution_count": 31,
     "metadata": {},
     "output_type": "execute_result"
    }
   ],
   "source": [
    "eighth_movie_mscore = movie_containers[22].find('div', class_ = 'ratings-metascore')\n",
    "type(eighth_movie_mscore)"
   ]
  },
  {
   "cell_type": "code",
   "execution_count": 32,
   "metadata": {},
   "outputs": [
    {
     "name": "stdout",
     "output_type": "stream",
     "text": [
      "<class 'pandas.core.frame.DataFrame'>\n",
      "RangeIndex: 44 entries, 0 to 43\n",
      "Data columns (total 5 columns):\n",
      "imdb         44 non-null float64\n",
      "metascore    44 non-null int64\n",
      "movie        44 non-null object\n",
      "votes        44 non-null int64\n",
      "year         44 non-null object\n",
      "dtypes: float64(1), int64(2), object(2)\n",
      "memory usage: 1.8+ KB\n",
      "None\n"
     ]
    },
    {
     "data": {
      "text/html": [
       "<div>\n",
       "<style scoped>\n",
       "    .dataframe tbody tr th:only-of-type {\n",
       "        vertical-align: middle;\n",
       "    }\n",
       "\n",
       "    .dataframe tbody tr th {\n",
       "        vertical-align: top;\n",
       "    }\n",
       "\n",
       "    .dataframe thead th {\n",
       "        text-align: right;\n",
       "    }\n",
       "</style>\n",
       "<table border=\"1\" class=\"dataframe\">\n",
       "  <thead>\n",
       "    <tr style=\"text-align: right;\">\n",
       "      <th></th>\n",
       "      <th>imdb</th>\n",
       "      <th>metascore</th>\n",
       "      <th>movie</th>\n",
       "      <th>votes</th>\n",
       "      <th>year</th>\n",
       "    </tr>\n",
       "  </thead>\n",
       "  <tbody>\n",
       "    <tr>\n",
       "      <th>0</th>\n",
       "      <td>8.1</td>\n",
       "      <td>77</td>\n",
       "      <td>\\n1.\\nLogan\\n(2017)\\n</td>\n",
       "      <td>567152</td>\n",
       "      <td>(2017)</td>\n",
       "    </tr>\n",
       "    <tr>\n",
       "      <th>1</th>\n",
       "      <td>7.9</td>\n",
       "      <td>74</td>\n",
       "      <td>\\n2.\\nThor: Ragnarok\\n(2017)\\n</td>\n",
       "      <td>492105</td>\n",
       "      <td>(2017)</td>\n",
       "    </tr>\n",
       "    <tr>\n",
       "      <th>2</th>\n",
       "      <td>7.5</td>\n",
       "      <td>76</td>\n",
       "      <td>\\n3.\\nWonder Woman\\n(2017)\\n</td>\n",
       "      <td>491868</td>\n",
       "      <td>(2017)</td>\n",
       "    </tr>\n",
       "    <tr>\n",
       "      <th>3</th>\n",
       "      <td>7.7</td>\n",
       "      <td>67</td>\n",
       "      <td>\\n4.\\nGuardians of the Galaxy Vol. 2\\n(2017)\\n</td>\n",
       "      <td>490819</td>\n",
       "      <td>(2017)</td>\n",
       "    </tr>\n",
       "    <tr>\n",
       "      <th>4</th>\n",
       "      <td>7.9</td>\n",
       "      <td>94</td>\n",
       "      <td>\\n5.\\nDunkirk\\n(2017)\\n</td>\n",
       "      <td>471622</td>\n",
       "      <td>(2017)</td>\n",
       "    </tr>\n",
       "    <tr>\n",
       "      <th>5</th>\n",
       "      <td>7.1</td>\n",
       "      <td>85</td>\n",
       "      <td>\\n6.\\nStar Wars: Episode VIII - The Last Jedi\\...</td>\n",
       "      <td>466673</td>\n",
       "      <td>(2017)</td>\n",
       "    </tr>\n",
       "    <tr>\n",
       "      <th>6</th>\n",
       "      <td>7.5</td>\n",
       "      <td>73</td>\n",
       "      <td>\\n7.\\nSpider-Man: Homecoming\\n(2017)\\n</td>\n",
       "      <td>436638</td>\n",
       "      <td>(2017)</td>\n",
       "    </tr>\n",
       "    <tr>\n",
       "      <th>7</th>\n",
       "      <td>7.7</td>\n",
       "      <td>84</td>\n",
       "      <td>\\n8.\\nGet Out\\n(I) (2017)\\n</td>\n",
       "      <td>407802</td>\n",
       "      <td>(I) (2017)</td>\n",
       "    </tr>\n",
       "    <tr>\n",
       "      <th>8</th>\n",
       "      <td>8.0</td>\n",
       "      <td>81</td>\n",
       "      <td>\\n9.\\nBlade Runner 2049\\n(2017)\\n</td>\n",
       "      <td>380241</td>\n",
       "      <td>(2017)</td>\n",
       "    </tr>\n",
       "    <tr>\n",
       "      <th>9</th>\n",
       "      <td>7.6</td>\n",
       "      <td>86</td>\n",
       "      <td>\\n10.\\nBaby Driver\\n(2017)\\n</td>\n",
       "      <td>370704</td>\n",
       "      <td>(2017)</td>\n",
       "    </tr>\n",
       "    <tr>\n",
       "      <th>10</th>\n",
       "      <td>7.4</td>\n",
       "      <td>69</td>\n",
       "      <td>\\n11.\\nIt\\n(I) (2017)\\n</td>\n",
       "      <td>364922</td>\n",
       "      <td>(I) (2017)</td>\n",
       "    </tr>\n",
       "    <tr>\n",
       "      <th>11</th>\n",
       "      <td>8.2</td>\n",
       "      <td>88</td>\n",
       "      <td>\\n12.\\nThree Billboards Outside Ebbing, Missou...</td>\n",
       "      <td>349060</td>\n",
       "      <td>(2017)</td>\n",
       "    </tr>\n",
       "    <tr>\n",
       "      <th>12</th>\n",
       "      <td>6.5</td>\n",
       "      <td>45</td>\n",
       "      <td>\\n13.\\nJustice League\\n(2017)\\n</td>\n",
       "      <td>332331</td>\n",
       "      <td>(2017)</td>\n",
       "    </tr>\n",
       "    <tr>\n",
       "      <th>13</th>\n",
       "      <td>7.3</td>\n",
       "      <td>87</td>\n",
       "      <td>\\n14.\\nThe Shape of Water\\n(2017)\\n</td>\n",
       "      <td>312076</td>\n",
       "      <td>(2017)</td>\n",
       "    </tr>\n",
       "    <tr>\n",
       "      <th>14</th>\n",
       "      <td>7.5</td>\n",
       "      <td>75</td>\n",
       "      <td>\\n15.\\nJohn Wick: Chapter 2\\n(2017)\\n</td>\n",
       "      <td>299704</td>\n",
       "      <td>(2017)</td>\n",
       "    </tr>\n",
       "    <tr>\n",
       "      <th>15</th>\n",
       "      <td>8.4</td>\n",
       "      <td>81</td>\n",
       "      <td>\\n16.\\nCoco\\n(I) (2017)\\n</td>\n",
       "      <td>283530</td>\n",
       "      <td>(I) (2017)</td>\n",
       "    </tr>\n",
       "    <tr>\n",
       "      <th>16</th>\n",
       "      <td>7.0</td>\n",
       "      <td>58</td>\n",
       "      <td>\\n17.\\nJumanji: Welcome to the Jungle\\n(2017)\\n</td>\n",
       "      <td>246811</td>\n",
       "      <td>(2017)</td>\n",
       "    </tr>\n",
       "    <tr>\n",
       "      <th>17</th>\n",
       "      <td>6.6</td>\n",
       "      <td>62</td>\n",
       "      <td>\\n18.\\nKong: Skull Island\\n(2017)\\n</td>\n",
       "      <td>240751</td>\n",
       "      <td>(2017)</td>\n",
       "    </tr>\n",
       "    <tr>\n",
       "      <th>18</th>\n",
       "      <td>7.2</td>\n",
       "      <td>65</td>\n",
       "      <td>\\n19.\\nBeauty and the Beast\\n(2017)\\n</td>\n",
       "      <td>240512</td>\n",
       "      <td>(2017)</td>\n",
       "    </tr>\n",
       "    <tr>\n",
       "      <th>19</th>\n",
       "      <td>6.8</td>\n",
       "      <td>44</td>\n",
       "      <td>\\n20.\\nKingsman: The Golden Circle\\n(2017)\\n</td>\n",
       "      <td>233353</td>\n",
       "      <td>(2017)</td>\n",
       "    </tr>\n",
       "    <tr>\n",
       "      <th>20</th>\n",
       "      <td>6.6</td>\n",
       "      <td>39</td>\n",
       "      <td>\\n21.\\nPirates of the Caribbean: Dead Men Tell...</td>\n",
       "      <td>230766</td>\n",
       "      <td>(2017)</td>\n",
       "    </tr>\n",
       "    <tr>\n",
       "      <th>21</th>\n",
       "      <td>6.4</td>\n",
       "      <td>65</td>\n",
       "      <td>\\n22.\\nAlien: Covenant\\n(2017)\\n</td>\n",
       "      <td>228919</td>\n",
       "      <td>(2017)</td>\n",
       "    </tr>\n",
       "    <tr>\n",
       "      <th>22</th>\n",
       "      <td>7.4</td>\n",
       "      <td>82</td>\n",
       "      <td>\\n24.\\nWar for the Planet of the Apes\\n(2017)\\n</td>\n",
       "      <td>203848</td>\n",
       "      <td>(2017)</td>\n",
       "    </tr>\n",
       "    <tr>\n",
       "      <th>23</th>\n",
       "      <td>7.6</td>\n",
       "      <td>48</td>\n",
       "      <td>\\n25.\\nThe Greatest Showman\\n(2017)\\n</td>\n",
       "      <td>201896</td>\n",
       "      <td>(2017)</td>\n",
       "    </tr>\n",
       "    <tr>\n",
       "      <th>24</th>\n",
       "      <td>6.6</td>\n",
       "      <td>54</td>\n",
       "      <td>\\n26.\\nLife\\n(I) (2017)\\n</td>\n",
       "      <td>184359</td>\n",
       "      <td>(I) (2017)</td>\n",
       "    </tr>\n",
       "    <tr>\n",
       "      <th>25</th>\n",
       "      <td>6.7</td>\n",
       "      <td>56</td>\n",
       "      <td>\\n27.\\nThe Fate of the Furious\\n(2017)\\n</td>\n",
       "      <td>181382</td>\n",
       "      <td>(2017)</td>\n",
       "    </tr>\n",
       "    <tr>\n",
       "      <th>26</th>\n",
       "      <td>6.5</td>\n",
       "      <td>52</td>\n",
       "      <td>\\n28.\\nMurder on the Orient Express\\n(2017)\\n</td>\n",
       "      <td>180295</td>\n",
       "      <td>(2017)</td>\n",
       "    </tr>\n",
       "    <tr>\n",
       "      <th>27</th>\n",
       "      <td>7.4</td>\n",
       "      <td>94</td>\n",
       "      <td>\\n29.\\nLady Bird\\n(2017)\\n</td>\n",
       "      <td>180172</td>\n",
       "      <td>(2017)</td>\n",
       "    </tr>\n",
       "    <tr>\n",
       "      <th>28</th>\n",
       "      <td>6.4</td>\n",
       "      <td>52</td>\n",
       "      <td>\\n30.\\nGhost in the Shell\\n(2017)\\n</td>\n",
       "      <td>178061</td>\n",
       "      <td>(2017)</td>\n",
       "    </tr>\n",
       "    <tr>\n",
       "      <th>29</th>\n",
       "      <td>7.7</td>\n",
       "      <td>73</td>\n",
       "      <td>\\n31.\\nWind River\\n(2017)\\n</td>\n",
       "      <td>171040</td>\n",
       "      <td>(2017)</td>\n",
       "    </tr>\n",
       "    <tr>\n",
       "      <th>30</th>\n",
       "      <td>6.8</td>\n",
       "      <td>41</td>\n",
       "      <td>\\n32.\\nKing Arthur: Legend of the Sword\\n(2017)\\n</td>\n",
       "      <td>170429</td>\n",
       "      <td>(2017)</td>\n",
       "    </tr>\n",
       "    <tr>\n",
       "      <th>31</th>\n",
       "      <td>6.9</td>\n",
       "      <td>47</td>\n",
       "      <td>\\n33.\\nThe Hitman's Bodyguard\\n(2017)\\n</td>\n",
       "      <td>163289</td>\n",
       "      <td>(2017)</td>\n",
       "    </tr>\n",
       "    <tr>\n",
       "      <th>32</th>\n",
       "      <td>6.6</td>\n",
       "      <td>75</td>\n",
       "      <td>\\n34.\\nMother!\\n(2017)\\n</td>\n",
       "      <td>158906</td>\n",
       "      <td>(2017)</td>\n",
       "    </tr>\n",
       "    <tr>\n",
       "      <th>33</th>\n",
       "      <td>7.9</td>\n",
       "      <td>93</td>\n",
       "      <td>\\n35.\\nCall Me by Your Name\\n(2017)\\n</td>\n",
       "      <td>156400</td>\n",
       "      <td>(2017)</td>\n",
       "    </tr>\n",
       "    <tr>\n",
       "      <th>34</th>\n",
       "      <td>5.5</td>\n",
       "      <td>34</td>\n",
       "      <td>\\n36.\\nThe Mummy\\n(2017)\\n</td>\n",
       "      <td>155766</td>\n",
       "      <td>(2017)</td>\n",
       "    </tr>\n",
       "    <tr>\n",
       "      <th>35</th>\n",
       "      <td>6.7</td>\n",
       "      <td>63</td>\n",
       "      <td>\\n37.\\nAtomic Blonde\\n(2017)\\n</td>\n",
       "      <td>152048</td>\n",
       "      <td>(2017)</td>\n",
       "    </tr>\n",
       "    <tr>\n",
       "      <th>36</th>\n",
       "      <td>6.4</td>\n",
       "      <td>29</td>\n",
       "      <td>\\n39.\\nBright\\n(I) (2017)\\n</td>\n",
       "      <td>149161</td>\n",
       "      <td>(I) (2017)</td>\n",
       "    </tr>\n",
       "    <tr>\n",
       "      <th>37</th>\n",
       "      <td>7.5</td>\n",
       "      <td>77</td>\n",
       "      <td>\\n40.\\nI, Tonya\\n(2017)\\n</td>\n",
       "      <td>143844</td>\n",
       "      <td>(2017)</td>\n",
       "    </tr>\n",
       "    <tr>\n",
       "      <th>38</th>\n",
       "      <td>6.5</td>\n",
       "      <td>51</td>\n",
       "      <td>\\n41.\\nValerian and the City of a Thousand Pla...</td>\n",
       "      <td>141420</td>\n",
       "      <td>(2017)</td>\n",
       "    </tr>\n",
       "    <tr>\n",
       "      <th>39</th>\n",
       "      <td>5.6</td>\n",
       "      <td>37</td>\n",
       "      <td>\\n42.\\nBaywatch\\n(2017)\\n</td>\n",
       "      <td>139429</td>\n",
       "      <td>(2017)</td>\n",
       "    </tr>\n",
       "    <tr>\n",
       "      <th>40</th>\n",
       "      <td>7.4</td>\n",
       "      <td>75</td>\n",
       "      <td>\\n43.\\nDarkest Hour\\n(2017)\\n</td>\n",
       "      <td>138147</td>\n",
       "      <td>(2017)</td>\n",
       "    </tr>\n",
       "    <tr>\n",
       "      <th>41</th>\n",
       "      <td>7.2</td>\n",
       "      <td>65</td>\n",
       "      <td>\\n45.\\nAmerican Made\\n(2017)\\n</td>\n",
       "      <td>132991</td>\n",
       "      <td>(2017)</td>\n",
       "    </tr>\n",
       "    <tr>\n",
       "      <th>42</th>\n",
       "      <td>5.2</td>\n",
       "      <td>27</td>\n",
       "      <td>\\n49.\\nTransformers: The Last Knight\\n(2017)\\n</td>\n",
       "      <td>120245</td>\n",
       "      <td>(2017)</td>\n",
       "    </tr>\n",
       "    <tr>\n",
       "      <th>43</th>\n",
       "      <td>7.3</td>\n",
       "      <td>75</td>\n",
       "      <td>\\n50.\\nThe Lego Batman Movie\\n(2017)\\n</td>\n",
       "      <td>117575</td>\n",
       "      <td>(2017)</td>\n",
       "    </tr>\n",
       "  </tbody>\n",
       "</table>\n",
       "</div>"
      ],
      "text/plain": [
       "    imdb  metascore                                              movie  \\\n",
       "0    8.1         77                              \\n1.\\nLogan\\n(2017)\\n   \n",
       "1    7.9         74                     \\n2.\\nThor: Ragnarok\\n(2017)\\n   \n",
       "2    7.5         76                       \\n3.\\nWonder Woman\\n(2017)\\n   \n",
       "3    7.7         67     \\n4.\\nGuardians of the Galaxy Vol. 2\\n(2017)\\n   \n",
       "4    7.9         94                            \\n5.\\nDunkirk\\n(2017)\\n   \n",
       "5    7.1         85  \\n6.\\nStar Wars: Episode VIII - The Last Jedi\\...   \n",
       "6    7.5         73             \\n7.\\nSpider-Man: Homecoming\\n(2017)\\n   \n",
       "7    7.7         84                        \\n8.\\nGet Out\\n(I) (2017)\\n   \n",
       "8    8.0         81                  \\n9.\\nBlade Runner 2049\\n(2017)\\n   \n",
       "9    7.6         86                       \\n10.\\nBaby Driver\\n(2017)\\n   \n",
       "10   7.4         69                            \\n11.\\nIt\\n(I) (2017)\\n   \n",
       "11   8.2         88  \\n12.\\nThree Billboards Outside Ebbing, Missou...   \n",
       "12   6.5         45                    \\n13.\\nJustice League\\n(2017)\\n   \n",
       "13   7.3         87                \\n14.\\nThe Shape of Water\\n(2017)\\n   \n",
       "14   7.5         75              \\n15.\\nJohn Wick: Chapter 2\\n(2017)\\n   \n",
       "15   8.4         81                          \\n16.\\nCoco\\n(I) (2017)\\n   \n",
       "16   7.0         58    \\n17.\\nJumanji: Welcome to the Jungle\\n(2017)\\n   \n",
       "17   6.6         62                \\n18.\\nKong: Skull Island\\n(2017)\\n   \n",
       "18   7.2         65              \\n19.\\nBeauty and the Beast\\n(2017)\\n   \n",
       "19   6.8         44       \\n20.\\nKingsman: The Golden Circle\\n(2017)\\n   \n",
       "20   6.6         39  \\n21.\\nPirates of the Caribbean: Dead Men Tell...   \n",
       "21   6.4         65                   \\n22.\\nAlien: Covenant\\n(2017)\\n   \n",
       "22   7.4         82    \\n24.\\nWar for the Planet of the Apes\\n(2017)\\n   \n",
       "23   7.6         48              \\n25.\\nThe Greatest Showman\\n(2017)\\n   \n",
       "24   6.6         54                          \\n26.\\nLife\\n(I) (2017)\\n   \n",
       "25   6.7         56           \\n27.\\nThe Fate of the Furious\\n(2017)\\n   \n",
       "26   6.5         52      \\n28.\\nMurder on the Orient Express\\n(2017)\\n   \n",
       "27   7.4         94                         \\n29.\\nLady Bird\\n(2017)\\n   \n",
       "28   6.4         52                \\n30.\\nGhost in the Shell\\n(2017)\\n   \n",
       "29   7.7         73                        \\n31.\\nWind River\\n(2017)\\n   \n",
       "30   6.8         41  \\n32.\\nKing Arthur: Legend of the Sword\\n(2017)\\n   \n",
       "31   6.9         47            \\n33.\\nThe Hitman's Bodyguard\\n(2017)\\n   \n",
       "32   6.6         75                           \\n34.\\nMother!\\n(2017)\\n   \n",
       "33   7.9         93              \\n35.\\nCall Me by Your Name\\n(2017)\\n   \n",
       "34   5.5         34                         \\n36.\\nThe Mummy\\n(2017)\\n   \n",
       "35   6.7         63                     \\n37.\\nAtomic Blonde\\n(2017)\\n   \n",
       "36   6.4         29                        \\n39.\\nBright\\n(I) (2017)\\n   \n",
       "37   7.5         77                          \\n40.\\nI, Tonya\\n(2017)\\n   \n",
       "38   6.5         51  \\n41.\\nValerian and the City of a Thousand Pla...   \n",
       "39   5.6         37                          \\n42.\\nBaywatch\\n(2017)\\n   \n",
       "40   7.4         75                      \\n43.\\nDarkest Hour\\n(2017)\\n   \n",
       "41   7.2         65                     \\n45.\\nAmerican Made\\n(2017)\\n   \n",
       "42   5.2         27     \\n49.\\nTransformers: The Last Knight\\n(2017)\\n   \n",
       "43   7.3         75             \\n50.\\nThe Lego Batman Movie\\n(2017)\\n   \n",
       "\n",
       "     votes        year  \n",
       "0   567152      (2017)  \n",
       "1   492105      (2017)  \n",
       "2   491868      (2017)  \n",
       "3   490819      (2017)  \n",
       "4   471622      (2017)  \n",
       "5   466673      (2017)  \n",
       "6   436638      (2017)  \n",
       "7   407802  (I) (2017)  \n",
       "8   380241      (2017)  \n",
       "9   370704      (2017)  \n",
       "10  364922  (I) (2017)  \n",
       "11  349060      (2017)  \n",
       "12  332331      (2017)  \n",
       "13  312076      (2017)  \n",
       "14  299704      (2017)  \n",
       "15  283530  (I) (2017)  \n",
       "16  246811      (2017)  \n",
       "17  240751      (2017)  \n",
       "18  240512      (2017)  \n",
       "19  233353      (2017)  \n",
       "20  230766      (2017)  \n",
       "21  228919      (2017)  \n",
       "22  203848      (2017)  \n",
       "23  201896      (2017)  \n",
       "24  184359  (I) (2017)  \n",
       "25  181382      (2017)  \n",
       "26  180295      (2017)  \n",
       "27  180172      (2017)  \n",
       "28  178061      (2017)  \n",
       "29  171040      (2017)  \n",
       "30  170429      (2017)  \n",
       "31  163289      (2017)  \n",
       "32  158906      (2017)  \n",
       "33  156400      (2017)  \n",
       "34  155766      (2017)  \n",
       "35  152048      (2017)  \n",
       "36  149161  (I) (2017)  \n",
       "37  143844      (2017)  \n",
       "38  141420      (2017)  \n",
       "39  139429      (2017)  \n",
       "40  138147      (2017)  \n",
       "41  132991      (2017)  \n",
       "42  120245      (2017)  \n",
       "43  117575      (2017)  "
      ]
     },
     "execution_count": 32,
     "metadata": {},
     "output_type": "execute_result"
    }
   ],
   "source": [
    "# Now we will be looping above logic in all the 50 movies of that page\n",
    "\n",
    "# Lists to store the scraped data in \n",
    "names = []\n",
    "years = []\n",
    "imdb_ratings = []\n",
    "metascores = []\n",
    "votes = []\n",
    "\n",
    "for container in movie_containers:\n",
    "    # If the movie has Metascore, then extract else skip:\n",
    "    if container.find('div', class_ = 'ratings-metascore') is not None:\n",
    "        # The name\n",
    "        name = container.h3.text\n",
    "        names.append(name)\n",
    "        # The year\n",
    "        year = container.h3.find('span', class_ = 'lister-item-year').text\n",
    "        years.append(year)\n",
    "        # The IMDB rating\n",
    "        imdb = float(container.strong.text)\n",
    "        imdb_ratings.append(imdb)\n",
    "        # The Metascore\n",
    "        m_score = container.find('span', class_ = 'metascore').text\n",
    "        metascores.append(int(m_score))\n",
    "        # The number of votes\n",
    "        vote = container.find('span', attrs = {'name':'nv'})['data-value']\n",
    "        votes.append(int(vote))\n",
    "        \n",
    "import pandas as pd\n",
    "test_df = pd.DataFrame({'movie': names,\n",
    "'year': years,\n",
    "'imdb': imdb_ratings,\n",
    "'metascore': metascores,\n",
    "'votes': votes\n",
    "})\n",
    "print(test_df.info())\n",
    "test_df"
   ]
  },
  {
   "cell_type": "code",
   "execution_count": 34,
   "metadata": {},
   "outputs": [],
   "source": [
    "# Sometimes it may happen that we are running the website from a country where English is the \n",
    "# local language, so you may get the data in other local languages \n",
    "\n",
    "# If you run into this issue, pass the following values to the headers parameters of the get function ()\n",
    "\n",
    "headers = {\"Accept-Language\": \"en-US, en;q=0.5\"}"
   ]
  },
  {
   "cell_type": "markdown",
   "metadata": {},
   "source": [
    "## Script for Multiple pages \n",
    "\n",
    "It is quite challenging, so we will scrape the first 4 pages of each year in the interval 2000-2017. 4 pages for each of the 18 years makes for a total of 72 pages. Each page has 50 movies, so we’ll scrape data for 3600 movies at most. But not all the movies have a Metascore, so the number will be lower than that. Even so, we are still very likely to get data for over 2000 movies.\n",
    "\n",
    "<br>\n",
    "<br>\n",
    "In hyperlink, we have to vary the values of only two parameters of the URL; the ```release_date``` paramter and ```page```\n",
    "<br>\n",
    "<br>\n",
    "In the next code cell we will:\n",
    "\n",
    "- Create a list called pages, and populate it with the strings corresponding to the first 4 pages.\n",
    "- Create a list called years_url and populate it with the strings corresponding to the years 2000-2017.\n"
   ]
  },
  {
   "cell_type": "code",
   "execution_count": 35,
   "metadata": {},
   "outputs": [],
   "source": [
    "pages = [str(i) for i in range(1,5)]\n",
    "years_url = [str(i) for i in range(2000,2018)]"
   ]
  },
  {
   "cell_type": "markdown",
   "metadata": {},
   "source": [
    "## Controlling the Crawl-rate\n",
    "\n",
    "Controlling the rate of crawling is beneficial for us, and for the website we are scraping. If we avoid hammering the server with tens of requests per second, then we are much less likely to get our IP address banned. We also avoid disrupting the activity of the website we scrape by allowing the server to respond to other users’ requests too.\n",
    "<br>\n",
    "<br>\n",
    "We’ll control the loop’s rate by using the ```sleep()``` function from Python’s ```time``` module. ```sleep()``` will pause the execution of the loop for a specified amount of seconds.\n",
    "<br>\n",
    "<br>\n",
    "To mimic human behavior, we’ll vary the amount of waiting time between requests by using the ```randint()``` function from the Python’s ```random``` module. ``````randint()``` randomly generates integers within a specified interval."
   ]
  },
  {
   "cell_type": "code",
   "execution_count": 38,
   "metadata": {},
   "outputs": [],
   "source": [
    "# For now let's import these two functions to prevent overcrowding \n",
    "from time import sleep\n",
    "from random import randint"
   ]
  },
  {
   "cell_type": "markdown",
   "metadata": {},
   "source": [
    "## Monitoring the loop as it’s still going\n",
    "\n",
    "Given that we’re scraping 72 pages, it would be nice if we could find a way to monitor the scraping process as it’s still going. This feature is definitely optional, but it can be very helpful in the testing and debugging process. Also, the greater the number of pages, the more helpful the monitoring becomes.\n",
    "<br>\n",
    "<br>\n",
    "For our script, we’ll make use of this feature, and monitor the following parameters:\n",
    "<br>\n",
    "-  The ```frequency (speed) of requests```, so we make sure our program is not overloading the server.\n",
    "-  The ```number of requests```, so we can halt the loop in case the number of expected requests is exceeded.\n",
    "-  The ```status code``` of our requests, so we make sure the server is sending back the proper responses.\n",
    "<br>\n",
    "<br>\n",
    "To get a frequency value we’ll divide the number of requests by the time elapsed since the first request. This is similar to computing the speed of a car – we divide the distance by the time taken to cover that distance. Let’s experiment with this monitoring technique at a small scale first. In the following code cell we will:\n",
    "\n",
    "\n",
    "- Set a starting time using the time() function from the time module, and assign the value to start_time.\n",
    "- Assign 0 to the variable requests which we’ll use to count the number of requests.\n",
    "- Start a loop, and then with each iteration:\n",
    "        * Simulate a request.\n",
    "        * Increment the number of requests by 1.\n",
    "        * Pause the loop for a time interval between 8 and 15 seconds.\n",
    "        * Calculate the elapsed time since the first request, and assign the value to elapsed_time.\n",
    "        * Print the number of requests and the frequency.\n",
    "\n"
   ]
  },
  {
   "cell_type": "code",
   "execution_count": 40,
   "metadata": {},
   "outputs": [
    {
     "name": "stdout",
     "output_type": "stream",
     "text": [
      "Request: 1; Frequency: 0.4942733729933237 requests/s\n",
      "Request: 2; Frequency: 0.6612027073925822 requests/s\n",
      "Request: 3; Frequency: 0.5969288995923274 requests/s\n",
      "Request: 4; Frequency: 0.663785013496498 requests/s\n",
      "Request: 5; Frequency: 0.5539186454704559 requests/s\n"
     ]
    }
   ],
   "source": [
    "from time import time\n",
    "start_time = time()\n",
    "requests = 0\n",
    "for _ in range(5):\n",
    "# A request would go here\n",
    "    requests += 1\n",
    "    sleep(randint(1,3))\n",
    "    elapsed_time = time() - start_time\n",
    "    print('Request: {}; Frequency: {} requests/s'.format(requests, requests/elapsed_time))"
   ]
  },
  {
   "cell_type": "code",
   "execution_count": 43,
   "metadata": {},
   "outputs": [
    {
     "name": "stdout",
     "output_type": "stream",
     "text": [
      "Request: 5; Frequency: 0.45378698471835405 requests/s\n"
     ]
    }
   ],
   "source": [
    "# We will be clearing the request timing using clear_output function so that it should not \n",
    "# look tidy\n",
    "\n",
    "from IPython.core.display import clear_output\n",
    "start_time = time()\n",
    "requests = 0\n",
    "for _ in range(5):\n",
    "# A request would go here\n",
    "    requests += 1\n",
    "    sleep(randint(1,3))\n",
    "    current_time = time()\n",
    "    elapsed_time = current_time - start_time\n",
    "    print('Request: {}; Frequency: {} requests/s'.format(requests, requests/elapsed_time))\n",
    "    clear_output(wait = True)"
   ]
  },
  {
   "cell_type": "markdown",
   "metadata": {},
   "source": [
    "## Monitoring the warning\n",
    "\n",
    " To monitor the status code we’ll set the program to warn us if there’s something off. A successful request is indicated by a status code of 200. We’ll use the ```warn()``` function from the ```warnings``` module to throw a warning if the status code is not 200."
   ]
  },
  {
   "cell_type": "code",
   "execution_count": 45,
   "metadata": {},
   "outputs": [
    {
     "name": "stderr",
     "output_type": "stream",
     "text": [
      "C:\\Users\\Suraj Talreja\\Anaconda3\\lib\\site-packages\\ipykernel_launcher.py:2: UserWarning: Warning Simulation\n",
      "  \n"
     ]
    }
   ],
   "source": [
    "from warnings import warn\n",
    "warn(\"Warning Simulation\")"
   ]
  },
  {
   "cell_type": "markdown",
   "metadata": {},
   "source": [
    "## Piecing everything together \n",
    "\n",
    "Now let’s piece together everything we’ve done so far! In the following code cell, we start by:\n",
    "\n",
    "- Redeclaring the lists variables so they become empty again.\n",
    "- Preparing the monitoring of the loop.\n",
    "\n",
    "Then, we’ll:\n",
    "\n",
    "- Loop through the years_url list to vary the release_date parameter of the URL.\n",
    "- For each element in years_url, loop through the pages list to vary the page parameter of the URL.\n",
    "- Make the GET requests within the pages loop (and give the headers parameter the right value to make sure we get only English content).\n",
    "- Pause the loop for a time interval between 8 and 15 seconds.\n",
    "- Monitor each request as discussed before.\n",
    "- Throw a warning for non-200 status codes.\n",
    "- Break the loop if the number of requests is greater than expected.\n",
    "- Convert the response‘s HTML content to a BeautifulSoup object.\n",
    "- Extract all movie containers from this BeautifulSoup object.\n",
    "- Loop through all these containers.\n",
    "- Extract the data if a container has a Metascore.\n"
   ]
  },
  {
   "cell_type": "code",
   "execution_count": 46,
   "metadata": {},
   "outputs": [
    {
     "name": "stdout",
     "output_type": "stream",
     "text": [
      "Request:72; Frequency: 0.07859966667399143 requests/s\n"
     ]
    }
   ],
   "source": [
    "#Full Code\n",
    "\n",
    "# Redeclaring the lists to store data in\n",
    "names = []\n",
    "years = []\n",
    "imdb_ratings = []\n",
    "metascores = []\n",
    "votes = []\n",
    "\n",
    "# Preparing the monitoring of the loop\n",
    "start_time = time()\n",
    "requests = 0\n",
    "\n",
    "# For every year in the interval 2000-2017\n",
    "for year_url in years_url:\n",
    "\n",
    "    # For every page in the interval 1-4\n",
    "    for page in pages:\n",
    "\n",
    "        # Make a get request\n",
    "        response = get('http://www.imdb.com/search/title?release_date=' + year_url +\n",
    "        '&sort=num_votes,desc&page=' + page, headers = headers)\n",
    "\n",
    "        # Pause the loop\n",
    "        sleep(randint(8,15))\n",
    "\n",
    "        # Monitor the requests\n",
    "        requests += 1\n",
    "        elapsed_time = time() - start_time\n",
    "        print('Request:{}; Frequency: {} requests/s'.format(requests, requests/elapsed_time))\n",
    "        clear_output(wait = True)\n",
    "\n",
    "        # Throw a warning for non-200 status codes\n",
    "        if response.status_code != 200:\n",
    "            warn('Request: {}; Status code: {}'.format(requests, response.status_code))\n",
    "\n",
    "        # Break the loop if the number of requests is greater than expected\n",
    "        if requests > 72:\n",
    "            warn('Number of requests was greater than expected.')\n",
    "            break\n",
    "\n",
    "        # Parse the content of the request with BeautifulSoup\n",
    "        page_html = BeautifulSoup(response.text, 'html.parser')\n",
    "\n",
    "        # Select all the 50 movie containers from a single page\n",
    "        mv_containers = page_html.find_all('div', class_ = 'lister-item mode-advanced')\n",
    "\n",
    "        # For every movie of these 50\n",
    "        for container in mv_containers:\n",
    "            # If the movie has a Metascore, then:\n",
    "            if container.find('div', class_ = 'ratings-metascore') is not None:\n",
    "\n",
    "                # Scrape the name\n",
    "                name = container.h3.a.text\n",
    "                names.append(name)\n",
    "\n",
    "                # Scrape the year\n",
    "                year = container.h3.find('span', class_ = 'lister-item-year').text\n",
    "                years.append(year)\n",
    "\n",
    "                # Scrape the IMDB rating\n",
    "                imdb = float(container.strong.text)\n",
    "                imdb_ratings.append(imdb)\n",
    "\n",
    "                # Scrape the Metascore\n",
    "                m_score = container.find('span', class_ = 'metascore').text\n",
    "                metascores.append(int(m_score))\n",
    "\n",
    "                # Scrape the number of votes\n",
    "                vote = container.find('span', attrs = {'name':'nv'})['data-value']\n",
    "                votes.append(int(vote))"
   ]
  },
  {
   "cell_type": "markdown",
   "metadata": {},
   "source": [
    "# Examining the Scraped Data\n",
    "\n",
    "First, we will make the pandas df"
   ]
  },
  {
   "cell_type": "code",
   "execution_count": 47,
   "metadata": {},
   "outputs": [
    {
     "name": "stdout",
     "output_type": "stream",
     "text": [
      "<class 'pandas.core.frame.DataFrame'>\n",
      "RangeIndex: 3280 entries, 0 to 3279\n",
      "Data columns (total 5 columns):\n",
      "imdb         3280 non-null float64\n",
      "metascore    3280 non-null int64\n",
      "movie        3280 non-null object\n",
      "votes        3280 non-null int64\n",
      "year         3280 non-null object\n",
      "dtypes: float64(1), int64(2), object(2)\n",
      "memory usage: 128.2+ KB\n",
      "None\n"
     ]
    },
    {
     "data": {
      "text/html": [
       "<div>\n",
       "<style scoped>\n",
       "    .dataframe tbody tr th:only-of-type {\n",
       "        vertical-align: middle;\n",
       "    }\n",
       "\n",
       "    .dataframe tbody tr th {\n",
       "        vertical-align: top;\n",
       "    }\n",
       "\n",
       "    .dataframe thead th {\n",
       "        text-align: right;\n",
       "    }\n",
       "</style>\n",
       "<table border=\"1\" class=\"dataframe\">\n",
       "  <thead>\n",
       "    <tr style=\"text-align: right;\">\n",
       "      <th></th>\n",
       "      <th>imdb</th>\n",
       "      <th>metascore</th>\n",
       "      <th>movie</th>\n",
       "      <th>votes</th>\n",
       "      <th>year</th>\n",
       "    </tr>\n",
       "  </thead>\n",
       "  <tbody>\n",
       "    <tr>\n",
       "      <th>0</th>\n",
       "      <td>8.5</td>\n",
       "      <td>67</td>\n",
       "      <td>Gladiator</td>\n",
       "      <td>1220065</td>\n",
       "      <td>(2000)</td>\n",
       "    </tr>\n",
       "    <tr>\n",
       "      <th>1</th>\n",
       "      <td>8.5</td>\n",
       "      <td>80</td>\n",
       "      <td>Memento</td>\n",
       "      <td>1036117</td>\n",
       "      <td>(2000)</td>\n",
       "    </tr>\n",
       "    <tr>\n",
       "      <th>2</th>\n",
       "      <td>8.3</td>\n",
       "      <td>55</td>\n",
       "      <td>Snatch</td>\n",
       "      <td>722692</td>\n",
       "      <td>(2000)</td>\n",
       "    </tr>\n",
       "    <tr>\n",
       "      <th>3</th>\n",
       "      <td>8.3</td>\n",
       "      <td>68</td>\n",
       "      <td>Requiem for a Dream</td>\n",
       "      <td>704190</td>\n",
       "      <td>(2000)</td>\n",
       "    </tr>\n",
       "    <tr>\n",
       "      <th>4</th>\n",
       "      <td>7.4</td>\n",
       "      <td>64</td>\n",
       "      <td>X-Men</td>\n",
       "      <td>539311</td>\n",
       "      <td>(2000)</td>\n",
       "    </tr>\n",
       "    <tr>\n",
       "      <th>5</th>\n",
       "      <td>7.8</td>\n",
       "      <td>73</td>\n",
       "      <td>Cast Away</td>\n",
       "      <td>475305</td>\n",
       "      <td>(2000)</td>\n",
       "    </tr>\n",
       "    <tr>\n",
       "      <th>6</th>\n",
       "      <td>7.6</td>\n",
       "      <td>64</td>\n",
       "      <td>American Psycho</td>\n",
       "      <td>433905</td>\n",
       "      <td>(2000)</td>\n",
       "    </tr>\n",
       "    <tr>\n",
       "      <th>7</th>\n",
       "      <td>7.3</td>\n",
       "      <td>62</td>\n",
       "      <td>Unbreakable</td>\n",
       "      <td>354962</td>\n",
       "      <td>(2000)</td>\n",
       "    </tr>\n",
       "    <tr>\n",
       "      <th>8</th>\n",
       "      <td>7.0</td>\n",
       "      <td>73</td>\n",
       "      <td>Meet the Parents</td>\n",
       "      <td>293979</td>\n",
       "      <td>(2000)</td>\n",
       "    </tr>\n",
       "    <tr>\n",
       "      <th>9</th>\n",
       "      <td>6.1</td>\n",
       "      <td>59</td>\n",
       "      <td>Mission: Impossible II</td>\n",
       "      <td>292234</td>\n",
       "      <td>(2000)</td>\n",
       "    </tr>\n",
       "  </tbody>\n",
       "</table>\n",
       "</div>"
      ],
      "text/plain": [
       "   imdb  metascore                   movie    votes    year\n",
       "0   8.5         67               Gladiator  1220065  (2000)\n",
       "1   8.5         80                 Memento  1036117  (2000)\n",
       "2   8.3         55                  Snatch   722692  (2000)\n",
       "3   8.3         68     Requiem for a Dream   704190  (2000)\n",
       "4   7.4         64                   X-Men   539311  (2000)\n",
       "5   7.8         73               Cast Away   475305  (2000)\n",
       "6   7.6         64         American Psycho   433905  (2000)\n",
       "7   7.3         62             Unbreakable   354962  (2000)\n",
       "8   7.0         73        Meet the Parents   293979  (2000)\n",
       "9   6.1         59  Mission: Impossible II   292234  (2000)"
      ]
     },
     "execution_count": 47,
     "metadata": {},
     "output_type": "execute_result"
    }
   ],
   "source": [
    "movie_ratings = pd.DataFrame({'movie': names,\n",
    "'year': years,\n",
    "'imdb': imdb_ratings,\n",
    "'metascore': metascores,\n",
    "'votes': votes\n",
    "})\n",
    "print(movie_ratings.info())\n",
    "movie_ratings.head(10)"
   ]
  },
  {
   "cell_type": "markdown",
   "metadata": {},
   "source": [
    "## Cleaning the Scraped Data\n",
    "\n"
   ]
  },
  {
   "cell_type": "code",
   "execution_count": 48,
   "metadata": {},
   "outputs": [
    {
     "data": {
      "text/html": [
       "<div>\n",
       "<style scoped>\n",
       "    .dataframe tbody tr th:only-of-type {\n",
       "        vertical-align: middle;\n",
       "    }\n",
       "\n",
       "    .dataframe tbody tr th {\n",
       "        vertical-align: top;\n",
       "    }\n",
       "\n",
       "    .dataframe thead th {\n",
       "        text-align: right;\n",
       "    }\n",
       "</style>\n",
       "<table border=\"1\" class=\"dataframe\">\n",
       "  <thead>\n",
       "    <tr style=\"text-align: right;\">\n",
       "      <th></th>\n",
       "      <th>movie</th>\n",
       "      <th>year</th>\n",
       "      <th>imdb</th>\n",
       "      <th>metascore</th>\n",
       "      <th>votes</th>\n",
       "    </tr>\n",
       "  </thead>\n",
       "  <tbody>\n",
       "    <tr>\n",
       "      <th>0</th>\n",
       "      <td>Gladiator</td>\n",
       "      <td>(2000)</td>\n",
       "      <td>8.5</td>\n",
       "      <td>67</td>\n",
       "      <td>1220065</td>\n",
       "    </tr>\n",
       "    <tr>\n",
       "      <th>1</th>\n",
       "      <td>Memento</td>\n",
       "      <td>(2000)</td>\n",
       "      <td>8.5</td>\n",
       "      <td>80</td>\n",
       "      <td>1036117</td>\n",
       "    </tr>\n",
       "    <tr>\n",
       "      <th>2</th>\n",
       "      <td>Snatch</td>\n",
       "      <td>(2000)</td>\n",
       "      <td>8.3</td>\n",
       "      <td>55</td>\n",
       "      <td>722692</td>\n",
       "    </tr>\n",
       "    <tr>\n",
       "      <th>3</th>\n",
       "      <td>Requiem for a Dream</td>\n",
       "      <td>(2000)</td>\n",
       "      <td>8.3</td>\n",
       "      <td>68</td>\n",
       "      <td>704190</td>\n",
       "    </tr>\n",
       "    <tr>\n",
       "      <th>4</th>\n",
       "      <td>X-Men</td>\n",
       "      <td>(2000)</td>\n",
       "      <td>7.4</td>\n",
       "      <td>64</td>\n",
       "      <td>539311</td>\n",
       "    </tr>\n",
       "  </tbody>\n",
       "</table>\n",
       "</div>"
      ],
      "text/plain": [
       "                 movie    year  imdb  metascore    votes\n",
       "0            Gladiator  (2000)   8.5         67  1220065\n",
       "1              Memento  (2000)   8.5         80  1036117\n",
       "2               Snatch  (2000)   8.3         55   722692\n",
       "3  Requiem for a Dream  (2000)   8.3         68   704190\n",
       "4                X-Men  (2000)   7.4         64   539311"
      ]
     },
     "execution_count": 48,
     "metadata": {},
     "output_type": "execute_result"
    }
   ],
   "source": [
    "# Ordering the columns \n",
    "\n",
    "movie_ratings = movie_ratings[['movie', 'year', 'imdb', 'metascore', 'votes']]\n",
    "movie_ratings.head()"
   ]
  },
  {
   "cell_type": "code",
   "execution_count": 49,
   "metadata": {},
   "outputs": [
    {
     "data": {
      "text/plain": [
       "array(['(2000)', '(I) (2000)', '(2001)', '(2002)', '(2003)', '(2004)',\n",
       "       '(I) (2004)', '(2005)', '(I) (2005)', '(2006)', '(I) (2006)',\n",
       "       '(2007)', '(I) (2007)', '(2008)', '(I) (2008)', '(2009)',\n",
       "       '(I) (2009)', '(2010)', '(I) (2010)', '(2011)', '(I) (2011)',\n",
       "       '(2012)', '(I) (2012)', '(2013)', '(I) (2013)', '(2014)',\n",
       "       '(I) (2014)', '(II) (2014)', '(2015)', '(I) (2015)', '(II) (2015)',\n",
       "       '(2016)', '(II) (2016)', '(I) (2016)', '(IX) (2016)', '(2017)',\n",
       "       '(I) (2017)'], dtype=object)"
      ]
     },
     "execution_count": 49,
     "metadata": {},
     "output_type": "execute_result"
    }
   ],
   "source": [
    "# Convert the year column into integer\n",
    "\n",
    "movie_ratings['year'].unique()"
   ]
  },
  {
   "cell_type": "code",
   "execution_count": 50,
   "metadata": {},
   "outputs": [],
   "source": [
    "# Counting from the end toward beginning, we can see that the years are always located \n",
    "# from the fifth character to the second. We’ll use the .str() method to select only \n",
    "# that interval. We’ll also convert the result to an integer using the astype() method:\n",
    "\n",
    "movie_ratings.loc[:, 'year'] = movie_ratings['year'].str[-5:-1].astype(int)"
   ]
  },
  {
   "cell_type": "code",
   "execution_count": 51,
   "metadata": {},
   "outputs": [
    {
     "data": {
      "text/plain": [
       "0    2000\n",
       "1    2000\n",
       "2    2000\n",
       "Name: year, dtype: int32"
      ]
     },
     "execution_count": 51,
     "metadata": {},
     "output_type": "execute_result"
    }
   ],
   "source": [
    "movie_ratings['year'].head(3)"
   ]
  },
  {
   "cell_type": "code",
   "execution_count": 53,
   "metadata": {},
   "outputs": [
    {
     "data": {
      "text/html": [
       "<div>\n",
       "<style scoped>\n",
       "    .dataframe tbody tr th:only-of-type {\n",
       "        vertical-align: middle;\n",
       "    }\n",
       "\n",
       "    .dataframe tbody tr th {\n",
       "        vertical-align: top;\n",
       "    }\n",
       "\n",
       "    .dataframe thead th {\n",
       "        text-align: right;\n",
       "    }\n",
       "</style>\n",
       "<table border=\"1\" class=\"dataframe\">\n",
       "  <thead>\n",
       "    <tr style=\"text-align: right;\">\n",
       "      <th></th>\n",
       "      <th>imdb</th>\n",
       "      <th>metascore</th>\n",
       "    </tr>\n",
       "  </thead>\n",
       "  <tbody>\n",
       "    <tr>\n",
       "      <th>min</th>\n",
       "      <td>4.1</td>\n",
       "      <td>24.0</td>\n",
       "    </tr>\n",
       "    <tr>\n",
       "      <th>max</th>\n",
       "      <td>9.0</td>\n",
       "      <td>100.0</td>\n",
       "    </tr>\n",
       "  </tbody>\n",
       "</table>\n",
       "</div>"
      ],
      "text/plain": [
       "     imdb  metascore\n",
       "min   4.1       24.0\n",
       "max   9.0      100.0"
      ]
     },
     "execution_count": 53,
     "metadata": {},
     "output_type": "execute_result"
    }
   ],
   "source": [
    "# Checking the min and max values\n",
    "movie_ratings.describe().loc[['min', 'max'], ['imdb', 'metascore']]"
   ]
  },
  {
   "cell_type": "code",
   "execution_count": 54,
   "metadata": {},
   "outputs": [
    {
     "data": {
      "text/html": [
       "<div>\n",
       "<style scoped>\n",
       "    .dataframe tbody tr th:only-of-type {\n",
       "        vertical-align: middle;\n",
       "    }\n",
       "\n",
       "    .dataframe tbody tr th {\n",
       "        vertical-align: top;\n",
       "    }\n",
       "\n",
       "    .dataframe thead th {\n",
       "        text-align: right;\n",
       "    }\n",
       "</style>\n",
       "<table border=\"1\" class=\"dataframe\">\n",
       "  <thead>\n",
       "    <tr style=\"text-align: right;\">\n",
       "      <th></th>\n",
       "      <th>movie</th>\n",
       "      <th>year</th>\n",
       "      <th>imdb</th>\n",
       "      <th>metascore</th>\n",
       "      <th>votes</th>\n",
       "      <th>n_imdb</th>\n",
       "    </tr>\n",
       "  </thead>\n",
       "  <tbody>\n",
       "    <tr>\n",
       "      <th>0</th>\n",
       "      <td>Gladiator</td>\n",
       "      <td>2000</td>\n",
       "      <td>8.5</td>\n",
       "      <td>67</td>\n",
       "      <td>1220065</td>\n",
       "      <td>85.0</td>\n",
       "    </tr>\n",
       "    <tr>\n",
       "      <th>1</th>\n",
       "      <td>Memento</td>\n",
       "      <td>2000</td>\n",
       "      <td>8.5</td>\n",
       "      <td>80</td>\n",
       "      <td>1036117</td>\n",
       "      <td>85.0</td>\n",
       "    </tr>\n",
       "    <tr>\n",
       "      <th>2</th>\n",
       "      <td>Snatch</td>\n",
       "      <td>2000</td>\n",
       "      <td>8.3</td>\n",
       "      <td>55</td>\n",
       "      <td>722692</td>\n",
       "      <td>83.0</td>\n",
       "    </tr>\n",
       "  </tbody>\n",
       "</table>\n",
       "</div>"
      ],
      "text/plain": [
       "       movie  year  imdb  metascore    votes  n_imdb\n",
       "0  Gladiator  2000   8.5         67  1220065    85.0\n",
       "1    Memento  2000   8.5         80  1036117    85.0\n",
       "2     Snatch  2000   8.3         55   722692    83.0"
      ]
     },
     "execution_count": 54,
     "metadata": {},
     "output_type": "execute_result"
    }
   ],
   "source": [
    "#We’ll multiply each IMDB rating by 10, and then we’ll do a quick check by looking at the first 3 rows:\n",
    "\n",
    "movie_ratings['n_imdb'] = movie_ratings['imdb'] * 10\n",
    "movie_ratings.head(3)"
   ]
  },
  {
   "cell_type": "code",
   "execution_count": 55,
   "metadata": {},
   "outputs": [],
   "source": [
    "# Saving the dataset:\n",
    "movie_ratings.to_csv('movie_ratings.csv')"
   ]
  }
 ],
 "metadata": {
  "kernelspec": {
   "display_name": "Python 3",
   "language": "python",
   "name": "python3"
  },
  "language_info": {
   "codemirror_mode": {
    "name": "ipython",
    "version": 3
   },
   "file_extension": ".py",
   "mimetype": "text/x-python",
   "name": "python",
   "nbconvert_exporter": "python",
   "pygments_lexer": "ipython3",
   "version": "3.6.4"
  }
 },
 "nbformat": 4,
 "nbformat_minor": 2
}
